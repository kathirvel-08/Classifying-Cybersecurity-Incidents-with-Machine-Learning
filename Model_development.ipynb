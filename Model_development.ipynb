{
 "cells": [
  {
   "cell_type": "code",
   "execution_count": 6,
   "metadata": {},
   "outputs": [
    {
     "data": {
      "text/html": [
       "<div>\n",
       "<style scoped>\n",
       "    .dataframe tbody tr th:only-of-type {\n",
       "        vertical-align: middle;\n",
       "    }\n",
       "\n",
       "    .dataframe tbody tr th {\n",
       "        vertical-align: top;\n",
       "    }\n",
       "\n",
       "    .dataframe thead th {\n",
       "        text-align: right;\n",
       "    }\n",
       "</style>\n",
       "<table border=\"1\" class=\"dataframe\">\n",
       "  <thead>\n",
       "    <tr style=\"text-align: right;\">\n",
       "      <th></th>\n",
       "      <th>Unnamed: 0</th>\n",
       "      <th>AlertTitle</th>\n",
       "      <th>Category</th>\n",
       "      <th>IncidentGrade</th>\n",
       "      <th>EntityType</th>\n",
       "      <th>EvidenceRole</th>\n",
       "      <th>Sha256</th>\n",
       "      <th>IpAddress</th>\n",
       "      <th>Url</th>\n",
       "      <th>AccountUpn</th>\n",
       "      <th>...</th>\n",
       "      <th>FileName</th>\n",
       "      <th>FolderPath</th>\n",
       "      <th>OSFamily</th>\n",
       "      <th>OSVersion</th>\n",
       "      <th>CountryCode</th>\n",
       "      <th>State</th>\n",
       "      <th>City</th>\n",
       "      <th>Year</th>\n",
       "      <th>Month</th>\n",
       "      <th>Day</th>\n",
       "    </tr>\n",
       "  </thead>\n",
       "  <tbody>\n",
       "    <tr>\n",
       "      <th>0</th>\n",
       "      <td>0</td>\n",
       "      <td>813</td>\n",
       "      <td>Malware</td>\n",
       "      <td>BenignPositive</td>\n",
       "      <td>File</td>\n",
       "      <td>Related</td>\n",
       "      <td>1296</td>\n",
       "      <td>360606</td>\n",
       "      <td>160396</td>\n",
       "      <td>673934</td>\n",
       "      <td>...</td>\n",
       "      <td>4132</td>\n",
       "      <td>4227</td>\n",
       "      <td>5</td>\n",
       "      <td>66</td>\n",
       "      <td>242</td>\n",
       "      <td>1445</td>\n",
       "      <td>10630</td>\n",
       "      <td>2024</td>\n",
       "      <td>6</td>\n",
       "      <td>6</td>\n",
       "    </tr>\n",
       "    <tr>\n",
       "      <th>1</th>\n",
       "      <td>1</td>\n",
       "      <td>25</td>\n",
       "      <td>Impact</td>\n",
       "      <td>BenignPositive</td>\n",
       "      <td>Machine</td>\n",
       "      <td>Impacted</td>\n",
       "      <td>138268</td>\n",
       "      <td>360606</td>\n",
       "      <td>160396</td>\n",
       "      <td>673934</td>\n",
       "      <td>...</td>\n",
       "      <td>289573</td>\n",
       "      <td>117668</td>\n",
       "      <td>5</td>\n",
       "      <td>66</td>\n",
       "      <td>242</td>\n",
       "      <td>1445</td>\n",
       "      <td>10630</td>\n",
       "      <td>2024</td>\n",
       "      <td>6</td>\n",
       "      <td>3</td>\n",
       "    </tr>\n",
       "    <tr>\n",
       "      <th>2</th>\n",
       "      <td>2</td>\n",
       "      <td>444</td>\n",
       "      <td>Execution</td>\n",
       "      <td>BenignPositive</td>\n",
       "      <td>Machine</td>\n",
       "      <td>Impacted</td>\n",
       "      <td>138268</td>\n",
       "      <td>360606</td>\n",
       "      <td>160396</td>\n",
       "      <td>673934</td>\n",
       "      <td>...</td>\n",
       "      <td>289573</td>\n",
       "      <td>117668</td>\n",
       "      <td>5</td>\n",
       "      <td>66</td>\n",
       "      <td>242</td>\n",
       "      <td>1445</td>\n",
       "      <td>10630</td>\n",
       "      <td>2024</td>\n",
       "      <td>6</td>\n",
       "      <td>13</td>\n",
       "    </tr>\n",
       "    <tr>\n",
       "      <th>3</th>\n",
       "      <td>3</td>\n",
       "      <td>1233</td>\n",
       "      <td>SuspiciousActivity</td>\n",
       "      <td>TruePositive</td>\n",
       "      <td>File</td>\n",
       "      <td>Related</td>\n",
       "      <td>138268</td>\n",
       "      <td>360606</td>\n",
       "      <td>160396</td>\n",
       "      <td>673934</td>\n",
       "      <td>...</td>\n",
       "      <td>97007</td>\n",
       "      <td>9177</td>\n",
       "      <td>5</td>\n",
       "      <td>66</td>\n",
       "      <td>242</td>\n",
       "      <td>1445</td>\n",
       "      <td>10630</td>\n",
       "      <td>2024</td>\n",
       "      <td>6</td>\n",
       "      <td>8</td>\n",
       "    </tr>\n",
       "    <tr>\n",
       "      <th>4</th>\n",
       "      <td>4</td>\n",
       "      <td>58829</td>\n",
       "      <td>Exfiltration</td>\n",
       "      <td>BenignPositive</td>\n",
       "      <td>File</td>\n",
       "      <td>Impacted</td>\n",
       "      <td>138268</td>\n",
       "      <td>360606</td>\n",
       "      <td>160396</td>\n",
       "      <td>673934</td>\n",
       "      <td>...</td>\n",
       "      <td>39978</td>\n",
       "      <td>114449</td>\n",
       "      <td>5</td>\n",
       "      <td>66</td>\n",
       "      <td>242</td>\n",
       "      <td>1445</td>\n",
       "      <td>10630</td>\n",
       "      <td>2024</td>\n",
       "      <td>6</td>\n",
       "      <td>9</td>\n",
       "    </tr>\n",
       "  </tbody>\n",
       "</table>\n",
       "<p>5 rows × 26 columns</p>\n",
       "</div>"
      ],
      "text/plain": [
       "   Unnamed: 0  AlertTitle            Category   IncidentGrade EntityType  \\\n",
       "0           0         813             Malware  BenignPositive       File   \n",
       "1           1          25              Impact  BenignPositive    Machine   \n",
       "2           2         444           Execution  BenignPositive    Machine   \n",
       "3           3        1233  SuspiciousActivity    TruePositive       File   \n",
       "4           4       58829        Exfiltration  BenignPositive       File   \n",
       "\n",
       "  EvidenceRole  Sha256  IpAddress     Url  AccountUpn  ...  FileName  \\\n",
       "0      Related    1296     360606  160396      673934  ...      4132   \n",
       "1     Impacted  138268     360606  160396      673934  ...    289573   \n",
       "2     Impacted  138268     360606  160396      673934  ...    289573   \n",
       "3      Related  138268     360606  160396      673934  ...     97007   \n",
       "4     Impacted  138268     360606  160396      673934  ...     39978   \n",
       "\n",
       "   FolderPath  OSFamily  OSVersion  CountryCode  State   City  Year  Month  \\\n",
       "0        4227         5         66          242   1445  10630  2024      6   \n",
       "1      117668         5         66          242   1445  10630  2024      6   \n",
       "2      117668         5         66          242   1445  10630  2024      6   \n",
       "3        9177         5         66          242   1445  10630  2024      6   \n",
       "4      114449         5         66          242   1445  10630  2024      6   \n",
       "\n",
       "   Day  \n",
       "0    6  \n",
       "1    3  \n",
       "2   13  \n",
       "3    8  \n",
       "4    9  \n",
       "\n",
       "[5 rows x 26 columns]"
      ]
     },
     "execution_count": 6,
     "metadata": {},
     "output_type": "execute_result"
    }
   ],
   "source": [
    "import pandas as pd\n",
    "df=pd.read_csv('E:/Project/Project files/Microsoft/Data/cleaned_df.csv')\n",
    "df.head()"
   ]
  },
  {
   "cell_type": "code",
   "execution_count": 7,
   "metadata": {},
   "outputs": [],
   "source": [
    "df.drop(columns=\"Unnamed: 0\",axis=1,inplace=True)"
   ]
  },
  {
   "cell_type": "code",
   "execution_count": 8,
   "metadata": {},
   "outputs": [
    {
     "data": {
      "text/plain": [
       "AlertTitle               0\n",
       "Category                 0\n",
       "IncidentGrade        24824\n",
       "EntityType               0\n",
       "EvidenceRole             0\n",
       "Sha256                   0\n",
       "IpAddress                0\n",
       "Url                      0\n",
       "AccountUpn               0\n",
       "AccountName              0\n",
       "DeviceName               0\n",
       "RegistryKey              0\n",
       "RegistryValueName        0\n",
       "RegistryValueData        0\n",
       "ApplicationName          0\n",
       "FileName                 0\n",
       "FolderPath               0\n",
       "OSFamily                 0\n",
       "OSVersion                0\n",
       "CountryCode              0\n",
       "State                    0\n",
       "City                     0\n",
       "Year                     0\n",
       "Month                    0\n",
       "Day                      0\n",
       "dtype: int64"
      ]
     },
     "execution_count": 8,
     "metadata": {},
     "output_type": "execute_result"
    }
   ],
   "source": [
    "df.isnull().sum()"
   ]
  },
  {
   "cell_type": "code",
   "execution_count": 9,
   "metadata": {},
   "outputs": [],
   "source": [
    "df.dropna(inplace=True)"
   ]
  },
  {
   "cell_type": "code",
   "execution_count": 10,
   "metadata": {},
   "outputs": [
    {
     "data": {
      "text/plain": [
       "AlertTitle           0\n",
       "Category             0\n",
       "IncidentGrade        0\n",
       "EntityType           0\n",
       "EvidenceRole         0\n",
       "Sha256               0\n",
       "IpAddress            0\n",
       "Url                  0\n",
       "AccountUpn           0\n",
       "AccountName          0\n",
       "DeviceName           0\n",
       "RegistryKey          0\n",
       "RegistryValueName    0\n",
       "RegistryValueData    0\n",
       "ApplicationName      0\n",
       "FileName             0\n",
       "FolderPath           0\n",
       "OSFamily             0\n",
       "OSVersion            0\n",
       "CountryCode          0\n",
       "State                0\n",
       "City                 0\n",
       "Year                 0\n",
       "Month                0\n",
       "Day                  0\n",
       "dtype: int64"
      ]
     },
     "execution_count": 10,
     "metadata": {},
     "output_type": "execute_result"
    }
   ],
   "source": [
    "df.isnull().sum()"
   ]
  },
  {
   "cell_type": "code",
   "execution_count": 11,
   "metadata": {},
   "outputs": [
    {
     "data": {
      "text/plain": [
       "array(['BenignPositive', 'TruePositive', 'FalsePositive'], dtype=object)"
      ]
     },
     "execution_count": 11,
     "metadata": {},
     "output_type": "execute_result"
    }
   ],
   "source": [
    "df['IncidentGrade'].unique()"
   ]
  },
  {
   "cell_type": "code",
   "execution_count": 12,
   "metadata": {},
   "outputs": [
    {
     "data": {
      "text/html": [
       "<div>\n",
       "<style scoped>\n",
       "    .dataframe tbody tr th:only-of-type {\n",
       "        vertical-align: middle;\n",
       "    }\n",
       "\n",
       "    .dataframe tbody tr th {\n",
       "        vertical-align: top;\n",
       "    }\n",
       "\n",
       "    .dataframe thead th {\n",
       "        text-align: right;\n",
       "    }\n",
       "</style>\n",
       "<table border=\"1\" class=\"dataframe\">\n",
       "  <thead>\n",
       "    <tr style=\"text-align: right;\">\n",
       "      <th></th>\n",
       "      <th>AlertTitle</th>\n",
       "      <th>Category</th>\n",
       "      <th>IncidentGrade</th>\n",
       "      <th>EntityType</th>\n",
       "      <th>EvidenceRole</th>\n",
       "      <th>Sha256</th>\n",
       "      <th>IpAddress</th>\n",
       "      <th>Url</th>\n",
       "      <th>AccountUpn</th>\n",
       "      <th>AccountName</th>\n",
       "      <th>...</th>\n",
       "      <th>FileName</th>\n",
       "      <th>FolderPath</th>\n",
       "      <th>OSFamily</th>\n",
       "      <th>OSVersion</th>\n",
       "      <th>CountryCode</th>\n",
       "      <th>State</th>\n",
       "      <th>City</th>\n",
       "      <th>Year</th>\n",
       "      <th>Month</th>\n",
       "      <th>Day</th>\n",
       "    </tr>\n",
       "  </thead>\n",
       "  <tbody>\n",
       "    <tr>\n",
       "      <th>0</th>\n",
       "      <td>13</td>\n",
       "      <td>Exfiltration</td>\n",
       "      <td>BenignPositive</td>\n",
       "      <td>File</td>\n",
       "      <td>Impacted</td>\n",
       "      <td>138268</td>\n",
       "      <td>360606</td>\n",
       "      <td>160396</td>\n",
       "      <td>673934</td>\n",
       "      <td>453297</td>\n",
       "      <td>...</td>\n",
       "      <td>60323</td>\n",
       "      <td>58058</td>\n",
       "      <td>5</td>\n",
       "      <td>66</td>\n",
       "      <td>242</td>\n",
       "      <td>1445</td>\n",
       "      <td>10630</td>\n",
       "      <td>2024</td>\n",
       "      <td>6</td>\n",
       "      <td>5</td>\n",
       "    </tr>\n",
       "    <tr>\n",
       "      <th>1</th>\n",
       "      <td>54970</td>\n",
       "      <td>Exfiltration</td>\n",
       "      <td>BenignPositive</td>\n",
       "      <td>MailMessage</td>\n",
       "      <td>Impacted</td>\n",
       "      <td>138268</td>\n",
       "      <td>360606</td>\n",
       "      <td>160396</td>\n",
       "      <td>330666</td>\n",
       "      <td>453297</td>\n",
       "      <td>...</td>\n",
       "      <td>289573</td>\n",
       "      <td>117668</td>\n",
       "      <td>5</td>\n",
       "      <td>66</td>\n",
       "      <td>242</td>\n",
       "      <td>1445</td>\n",
       "      <td>10630</td>\n",
       "      <td>2024</td>\n",
       "      <td>6</td>\n",
       "      <td>3</td>\n",
       "    </tr>\n",
       "    <tr>\n",
       "      <th>2</th>\n",
       "      <td>10274</td>\n",
       "      <td>Exfiltration</td>\n",
       "      <td>BenignPositive</td>\n",
       "      <td>File</td>\n",
       "      <td>Impacted</td>\n",
       "      <td>1746</td>\n",
       "      <td>360606</td>\n",
       "      <td>160396</td>\n",
       "      <td>673934</td>\n",
       "      <td>453297</td>\n",
       "      <td>...</td>\n",
       "      <td>1991</td>\n",
       "      <td>708</td>\n",
       "      <td>5</td>\n",
       "      <td>66</td>\n",
       "      <td>242</td>\n",
       "      <td>1445</td>\n",
       "      <td>10630</td>\n",
       "      <td>2024</td>\n",
       "      <td>6</td>\n",
       "      <td>3</td>\n",
       "    </tr>\n",
       "    <tr>\n",
       "      <th>3</th>\n",
       "      <td>22</td>\n",
       "      <td>InitialAccess</td>\n",
       "      <td>BenignPositive</td>\n",
       "      <td>Mailbox</td>\n",
       "      <td>Impacted</td>\n",
       "      <td>138268</td>\n",
       "      <td>360606</td>\n",
       "      <td>160396</td>\n",
       "      <td>80363</td>\n",
       "      <td>80948</td>\n",
       "      <td>...</td>\n",
       "      <td>289573</td>\n",
       "      <td>117668</td>\n",
       "      <td>5</td>\n",
       "      <td>66</td>\n",
       "      <td>242</td>\n",
       "      <td>1445</td>\n",
       "      <td>10630</td>\n",
       "      <td>2024</td>\n",
       "      <td>6</td>\n",
       "      <td>11</td>\n",
       "    </tr>\n",
       "    <tr>\n",
       "      <th>4</th>\n",
       "      <td>492</td>\n",
       "      <td>CredentialAccess</td>\n",
       "      <td>BenignPositive</td>\n",
       "      <td>Ip</td>\n",
       "      <td>Related</td>\n",
       "      <td>138268</td>\n",
       "      <td>216810</td>\n",
       "      <td>160396</td>\n",
       "      <td>673934</td>\n",
       "      <td>453297</td>\n",
       "      <td>...</td>\n",
       "      <td>289573</td>\n",
       "      <td>117668</td>\n",
       "      <td>5</td>\n",
       "      <td>66</td>\n",
       "      <td>242</td>\n",
       "      <td>1445</td>\n",
       "      <td>10630</td>\n",
       "      <td>2024</td>\n",
       "      <td>5</td>\n",
       "      <td>30</td>\n",
       "    </tr>\n",
       "  </tbody>\n",
       "</table>\n",
       "<p>5 rows × 25 columns</p>\n",
       "</div>"
      ],
      "text/plain": [
       "   AlertTitle          Category   IncidentGrade   EntityType EvidenceRole  \\\n",
       "0          13      Exfiltration  BenignPositive         File     Impacted   \n",
       "1       54970      Exfiltration  BenignPositive  MailMessage     Impacted   \n",
       "2       10274      Exfiltration  BenignPositive         File     Impacted   \n",
       "3          22     InitialAccess  BenignPositive      Mailbox     Impacted   \n",
       "4         492  CredentialAccess  BenignPositive           Ip      Related   \n",
       "\n",
       "   Sha256  IpAddress     Url  AccountUpn  AccountName  ...  FileName  \\\n",
       "0  138268     360606  160396      673934       453297  ...     60323   \n",
       "1  138268     360606  160396      330666       453297  ...    289573   \n",
       "2    1746     360606  160396      673934       453297  ...      1991   \n",
       "3  138268     360606  160396       80363        80948  ...    289573   \n",
       "4  138268     216810  160396      673934       453297  ...    289573   \n",
       "\n",
       "   FolderPath  OSFamily  OSVersion  CountryCode  State   City  Year  Month  \\\n",
       "0       58058         5         66          242   1445  10630  2024      6   \n",
       "1      117668         5         66          242   1445  10630  2024      6   \n",
       "2         708         5         66          242   1445  10630  2024      6   \n",
       "3      117668         5         66          242   1445  10630  2024      6   \n",
       "4      117668         5         66          242   1445  10630  2024      5   \n",
       "\n",
       "   Day  \n",
       "0    5  \n",
       "1    3  \n",
       "2    3  \n",
       "3   11  \n",
       "4   30  \n",
       "\n",
       "[5 rows x 25 columns]"
      ]
     },
     "execution_count": 12,
     "metadata": {},
     "output_type": "execute_result"
    }
   ],
   "source": [
    "# Sampling from each category\n",
    "BenignPositive = df[df['IncidentGrade'] == \"BenignPositive\"].sample(500000, random_state=42)\n",
    "TruePositive = df[df['IncidentGrade'] == \"TruePositive\"].sample(500000, random_state=42)\n",
    "FalsePositive = df[df['IncidentGrade'] == \"FalsePositive\"].sample(500000, random_state=42)\n",
    "\n",
    "# Concatenating them into one DataFrame\n",
    "df_sampled = pd.concat([BenignPositive, TruePositive, FalsePositive], axis=0)\n",
    "\n",
    "# Reset index\n",
    "df_sampled = df_sampled.reset_index(drop=True)\n",
    "\n",
    "# Display the shape of the new DataFrame\n",
    "df_sampled.head()"
   ]
  },
  {
   "cell_type": "code",
   "execution_count": 13,
   "metadata": {},
   "outputs": [],
   "source": [
    "df_sampled.to_csv(\"sampled.csv\",index=False)"
   ]
  },
  {
   "cell_type": "code",
   "execution_count": 14,
   "metadata": {},
   "outputs": [
    {
     "name": "stdout",
     "output_type": "stream",
     "text": [
      "Done\n"
     ]
    }
   ],
   "source": [
    "# encode\n",
    "from sklearn.preprocessing import LabelEncoder\n",
    "encoder=LabelEncoder()\n",
    "for col in df_sampled.columns:\n",
    "    df_sampled[col]=encoder.fit_transform(df_sampled[col])\n",
    "print(\"Done\")\n",
    "\n",
    "import pickle\n",
    "with open(\"encoders.pkl\",'wb')as f:\n",
    "    pickle.dump(encoder,f)"
   ]
  },
  {
   "cell_type": "code",
   "execution_count": 15,
   "metadata": {},
   "outputs": [
    {
     "name": "stdout",
     "output_type": "stream",
     "text": [
      "(1125000, 24) (375000, 24) (1125000,) (375000,)\n"
     ]
    }
   ],
   "source": [
    "from sklearn.model_selection import train_test_split\n",
    "\n",
    "X = df_sampled.drop(columns=['IncidentGrade'])  # Features\n",
    "y = df_sampled['IncidentGrade']  # Target\n",
    "X_train,X_test,y_train,y_test=train_test_split(X,y,random_state=42,test_size=0.25)\n",
    "print(X_train.shape,X_test.shape,y_train.shape,y_test.shape)"
   ]
  },
  {
   "cell_type": "code",
   "execution_count": 16,
   "metadata": {},
   "outputs": [
    {
     "name": "stdout",
     "output_type": "stream",
     "text": [
      "IncidentGrade\n",
      "2    375639\n",
      "0    375639\n",
      "1    375639\n",
      "Name: count, dtype: int64\n"
     ]
    }
   ],
   "source": [
    "from imblearn.over_sampling import RandomOverSampler\n",
    "\n",
    "# Apply Random Oversampling (ROS)\n",
    "ros = RandomOverSampler(sampling_strategy='auto', random_state=42)\n",
    "X_resampled, y_resampled = ros.fit_resample(X_train, y_train)\n",
    "\n",
    "df_resampled = pd.DataFrame(X_resampled, columns=X.columns)\n",
    "df_resampled['IncidentGrade'] = y_resampled\n",
    "\n",
    "# Check the new class distribution\n",
    "print(df_resampled['IncidentGrade'].value_counts())\n"
   ]
  },
  {
   "cell_type": "code",
   "execution_count": 17,
   "metadata": {},
   "outputs": [],
   "source": [
    "X_train = df_resampled.drop(columns=\"IncidentGrade\",axis=1)\n",
    "y_train = df_resampled['IncidentGrade']"
   ]
  },
  {
   "cell_type": "markdown",
   "metadata": {},
   "source": [
    "# Model selection"
   ]
  },
  {
   "cell_type": "code",
   "execution_count": 18,
   "metadata": {},
   "outputs": [],
   "source": [
    "#models\n",
    "from sklearn.neighbors import KNeighborsClassifier\n",
    "from sklearn.tree import DecisionTreeClassifier\n",
    "from sklearn.svm import SVC\n",
    "from sklearn.ensemble import RandomForestClassifier\n",
    "from xgboost import XGBClassifier\n",
    "\n",
    "#Evaluation metrics\n",
    "from sklearn.metrics import accuracy_score,classification_report"
   ]
  },
  {
   "cell_type": "code",
   "execution_count": null,
   "metadata": {},
   "outputs": [
    {
     "name": "stdout",
     "output_type": "stream",
     "text": [
      "0.8192053333333333\n"
     ]
    }
   ],
   "source": [
    "model=DecisionTreeClassifier(max_depth=)\n",
    "model.fit(X_train,y_train)\n",
    "y_pred = model.predict(X_test)\n",
    "print(accuracy_score(y_test,y_pred))"
   ]
  },
  {
   "cell_type": "code",
   "execution_count": 20,
   "metadata": {},
   "outputs": [
    {
     "name": "stdout",
     "output_type": "stream",
     "text": [
      "0.7436666666666667\n"
     ]
    }
   ],
   "source": [
    "model=XGBClassifier()\n",
    "model.fit(X_train,y_train)\n",
    "y_pred = model.predict(X_test)\n",
    "print(accuracy_score(y_test,y_pred))"
   ]
  },
  {
   "cell_type": "code",
   "execution_count": 21,
   "metadata": {},
   "outputs": [
    {
     "name": "stdout",
     "output_type": "stream",
     "text": [
      "Fitting 5 folds for each of 72 candidates, totalling 360 fits\n",
      "Best Parameters: {'criterion': 'entropy', 'max_depth': None, 'min_samples_leaf': 1, 'min_samples_split': 2}\n",
      "Best Cross-Validation Accuracy: 0.8146287613831724\n",
      "Test Set Accuracy: 0.820832\n"
     ]
    }
   ],
   "source": [
    "from sklearn.model_selection import GridSearchCV\n",
    "dt = DecisionTreeClassifier()\n",
    "\n",
    "# Define the parameter grid\n",
    "param_grid = {\n",
    "    'criterion': ['gini', 'entropy'],\n",
    "    'max_depth': [3, 5, 10, None],\n",
    "    'min_samples_split': [2, 5, 10],\n",
    "    'min_samples_leaf': [1, 2, 4]\n",
    "}\n",
    "\n",
    "# Apply GridSearchCV\n",
    "grid_search = GridSearchCV(estimator=dt, param_grid=param_grid,cv=5, scoring='accuracy', n_jobs=-1, verbose=1)\n",
    "\n",
    "# Fit the model\n",
    "grid_search.fit(X_train, y_train)\n",
    "\n",
    "# Get the best parameters\n",
    "print(\"Best Parameters:\", grid_search.best_params_)\n",
    "\n",
    "# Get the best score\n",
    "print(\"Best Cross-Validation Accuracy:\", grid_search.best_score_)\n",
    "\n",
    "# Evaluate on the test set\n",
    "best_model = grid_search.best_estimator_\n",
    "test_accuracy = best_model.score(X_test, y_test)\n",
    "print(\"Test Set Accuracy:\", test_accuracy)"
   ]
  },
  {
   "cell_type": "code",
   "execution_count": 23,
   "metadata": {},
   "outputs": [
    {
     "name": "stdout",
     "output_type": "stream",
     "text": [
      "              precision    recall  f1-score   support\n",
      "\n",
      "           0       0.67      0.81      0.73    124361\n",
      "           1       0.76      0.68      0.72    125273\n",
      "           2       0.83      0.73      0.78    125366\n",
      "\n",
      "    accuracy                           0.74    375000\n",
      "   macro avg       0.75      0.74      0.74    375000\n",
      "weighted avg       0.75      0.74      0.74    375000\n",
      "\n"
     ]
    }
   ],
   "source": [
    "print(classification_report(y_test,y_pred))"
   ]
  },
  {
   "cell_type": "code",
   "execution_count": 24,
   "metadata": {},
   "outputs": [
    {
     "name": "stdout",
     "output_type": "stream",
     "text": [
      "Done\n"
     ]
    }
   ],
   "source": [
    "import pickle \n",
    "with open(\"model.pkl\",'wb') as f:\n",
    "    pickle.dump(best_model,f)\n",
    "print(\"Done\")"
   ]
  }
 ],
 "metadata": {
  "kernelspec": {
   "display_name": "microsoft",
   "language": "python",
   "name": "python3"
  },
  "language_info": {
   "codemirror_mode": {
    "name": "ipython",
    "version": 3
   },
   "file_extension": ".py",
   "mimetype": "text/x-python",
   "name": "python",
   "nbconvert_exporter": "python",
   "pygments_lexer": "ipython3",
   "version": "3.12.6"
  }
 },
 "nbformat": 4,
 "nbformat_minor": 2
}
